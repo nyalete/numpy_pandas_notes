{
 "metadata": {
  "language_info": {
   "codemirror_mode": {
    "name": "ipython",
    "version": 3
   },
   "file_extension": ".py",
   "mimetype": "text/x-python",
   "name": "python",
   "nbconvert_exporter": "python",
   "pygments_lexer": "ipython3",
   "version": "3.9.2-final"
  },
  "orig_nbformat": 2,
  "kernelspec": {
   "name": "python39264bit76c2ec04ca6244ab8002175827d82806",
   "display_name": "Python 3.9.2 64-bit"
  }
 },
 "nbformat": 4,
 "nbformat_minor": 2,
 "cells": [
  {
   "cell_type": "code",
   "execution_count": 1,
   "metadata": {},
   "outputs": [],
   "source": [
    "# import modules\n",
    "import numpy as np\n",
    "import sys "
   ]
  },
  {
   "source": [
    "## The Basics"
   ],
   "cell_type": "markdown",
   "metadata": {}
  },
  {
   "cell_type": "code",
   "execution_count": 12,
   "metadata": {},
   "outputs": [],
   "source": [
    " # Create array with list\n",
    "a = np.array([1,2,3], dtype=np.int32) # can specify dtype\n",
    "b = np.array([[1,2,3,5],[4,5,6,7]]) # default is np.int64"
   ]
  },
  {
   "cell_type": "code",
   "execution_count": 25,
   "metadata": {},
   "outputs": [
    {
     "output_type": "execute_result",
     "data": {
      "text/plain": [
       "array([[0., 0., 0., 0.],\n",
       "       [0., 0., 0., 0.],\n",
       "       [0., 0., 0., 0.]])"
      ]
     },
     "metadata": {},
     "execution_count": 25
    }
   ],
   "source": [
    "# Create array with 0s\n",
    "c = np.zeros([3,4]) # note default is float\n",
    "c"
   ]
  },
  {
   "cell_type": "code",
   "execution_count": 28,
   "metadata": {},
   "outputs": [
    {
     "output_type": "execute_result",
     "data": {
      "text/plain": [
       "array([[1., 1., 1., 1.],\n",
       "       [1., 1., 1., 1.],\n",
       "       [1., 1., 1., 1.]])"
      ]
     },
     "metadata": {},
     "execution_count": 28
    }
   ],
   "source": [
    "# Create array with 1s\n",
    "d = np.ones([3,4])\n",
    "d"
   ]
  },
  {
   "cell_type": "code",
   "execution_count": 148,
   "metadata": {},
   "outputs": [
    {
     "output_type": "execute_result",
     "data": {
      "text/plain": [
       "array([0.63696169, 0.26978671, 0.04097352, 0.01652764, 0.81327024])"
      ]
     },
     "metadata": {},
     "execution_count": 148
    }
   ],
   "source": [
    "# Create array with random values\n",
    "f = np.random.default_rng(0).random(5)\n",
    "f"
   ]
  },
  {
   "cell_type": "code",
   "execution_count": 150,
   "metadata": {},
   "outputs": [
    {
     "output_type": "execute_result",
     "data": {
      "text/plain": [
       "array([[6, 5, 4, 2, 2],\n",
       "       [0, 0, 0, 1, 6]])"
      ]
     },
     "metadata": {},
     "execution_count": 150
    }
   ],
   "source": [
    "# Random integer numbers within a range with size\n",
    "f2 = np.random.default_rng(0).integers(8, size=(2,5))\n",
    "f2"
   ]
  },
  {
   "cell_type": "code",
   "execution_count": 31,
   "metadata": {},
   "outputs": [
    {
     "output_type": "execute_result",
     "data": {
      "text/plain": [
       "array([0, 1, 2, 3, 4, 5])"
      ]
     },
     "metadata": {},
     "execution_count": 31
    }
   ],
   "source": [
    "# Create array with range of elements [exclusive]\n",
    "e = np.arange(6)\n",
    "e"
   ]
  },
  {
   "cell_type": "code",
   "execution_count": 33,
   "metadata": {},
   "outputs": [
    {
     "output_type": "execute_result",
     "data": {
      "text/plain": [
       "array([4.64358516e-310, 0.00000000e+000, 0.00000000e+000, 0.00000000e+000,\n",
       "       0.00000000e+000, 0.00000000e+000])"
      ]
     },
     "metadata": {},
     "execution_count": 33
    }
   ],
   "source": [
    "# Create empty array. Initial content is random and depends on the state of the memory.\n",
    "f = np.empty(6)\n",
    "f"
   ]
  },
  {
   "cell_type": "code",
   "execution_count": 34,
   "metadata": {},
   "outputs": [
    {
     "output_type": "execute_result",
     "data": {
      "text/plain": [
       "array([ 2,  4,  6,  8, 10, 12, 14, 16])"
      ]
     },
     "metadata": {},
     "execution_count": 34
    }
   ],
   "source": [
    "# Create array with intervals.\n",
    "g = np.arange(2,18, 2) # From 2 to 18 step 2\n",
    "g"
   ]
  },
  {
   "cell_type": "code",
   "execution_count": 38,
   "metadata": {},
   "outputs": [
    {
     "output_type": "execute_result",
     "data": {
      "text/plain": [
       "array([ 2.        ,  4.55555556,  7.11111111,  9.66666667, 12.22222222,\n",
       "       14.77777778, 17.33333333, 19.88888889, 22.44444444, 25.        ])"
      ]
     },
     "metadata": {},
     "execution_count": 38
    }
   ],
   "source": [
    "# Create linearly spaced array\n",
    "h = np.linspace(2,25, num=10) #  can specify dtype. default is float\n",
    "h"
   ]
  },
  {
   "cell_type": "code",
   "execution_count": 13,
   "metadata": {},
   "outputs": [
    {
     "output_type": "stream",
     "name": "stdout",
     "text": [
      "1\n2\n"
     ]
    }
   ],
   "source": [
    "# Get dimentions\n",
    "print(a.ndim)\n",
    "print(b.ndim)"
   ]
  },
  {
   "cell_type": "code",
   "execution_count": 14,
   "metadata": {},
   "outputs": [
    {
     "output_type": "stream",
     "name": "stdout",
     "text": [
      "int32\nint64\n"
     ]
    }
   ],
   "source": [
    "# Get type\n",
    "print(a.dtype)\n",
    "print(b.dtype) # note default"
   ]
  },
  {
   "cell_type": "code",
   "execution_count": 15,
   "metadata": {},
   "outputs": [
    {
     "output_type": "stream",
     "name": "stdout",
     "text": [
      "4\n8\n"
     ]
    }
   ],
   "source": [
    "# Get  item size\n",
    "print(a.itemsize)\n",
    "print(b.itemsize)"
   ]
  },
  {
   "cell_type": "code",
   "execution_count": 16,
   "metadata": {},
   "outputs": [
    {
     "output_type": "stream",
     "name": "stdout",
     "text": [
      "12\n64\n"
     ]
    }
   ],
   "source": [
    "# Get byte size\n",
    "print(a.nbytes)\n",
    "print(b.nbytes)"
   ]
  },
  {
   "cell_type": "code",
   "execution_count": 58,
   "metadata": {},
   "outputs": [
    {
     "output_type": "execute_result",
     "data": {
      "text/plain": [
       "3"
      ]
     },
     "metadata": {},
     "execution_count": 58
    }
   ],
   "source": [
    "# Get size - number of elements in array\n",
    "a.size"
   ]
  },
  {
   "source": [
    "## Access, Update, Slicing"
   ],
   "cell_type": "markdown",
   "metadata": {}
  },
  {
   "cell_type": "code",
   "execution_count": 73,
   "metadata": {},
   "outputs": [
    {
     "output_type": "execute_result",
     "data": {
      "text/plain": [
       "3"
      ]
     },
     "metadata": {},
     "execution_count": 73
    }
   ],
   "source": [
    "# Retrieve using single index\n",
    "a[2]"
   ]
  },
  {
   "cell_type": "code",
   "execution_count": 76,
   "metadata": {},
   "outputs": [
    {
     "output_type": "execute_result",
     "data": {
      "text/plain": [
       "array([1, 2], dtype=int32)"
      ]
     },
     "metadata": {},
     "execution_count": 76
    }
   ],
   "source": [
    "# Retrieve range of elements\n",
    "a[:2]"
   ]
  },
  {
   "cell_type": "code",
   "execution_count": 77,
   "metadata": {},
   "outputs": [
    {
     "output_type": "execute_result",
     "data": {
      "text/plain": [
       "3"
      ]
     },
     "metadata": {},
     "execution_count": 77
    }
   ],
   "source": [
    "# Retrieve last element\n",
    "a[-1]"
   ]
  },
  {
   "cell_type": "code",
   "execution_count": 85,
   "metadata": {},
   "outputs": [
    {
     "output_type": "execute_result",
     "data": {
      "text/plain": [
       "array([3, 2, 1], dtype=int32)"
      ]
     },
     "metadata": {},
     "execution_count": 85
    }
   ],
   "source": [
    "# Retrieve from last to first = reverses array\n",
    "a[::-1]"
   ]
  },
  {
   "cell_type": "code",
   "execution_count": 19,
   "metadata": {},
   "outputs": [
    {
     "output_type": "stream",
     "name": "stdout",
     "text": [
      "5\n4\n"
     ]
    }
   ],
   "source": [
    "# Access specific item [row,col]\n",
    "print(b[0,3]) #retrieve fourth element from first row\n",
    "print(b[1,0]) # first element from second row"
   ]
  },
  {
   "cell_type": "code",
   "execution_count": 86,
   "metadata": {},
   "outputs": [
    {
     "output_type": "execute_result",
     "data": {
      "text/plain": [
       "array([1, 2], dtype=int32)"
      ]
     },
     "metadata": {},
     "execution_count": 86
    }
   ],
   "source": [
    "# Elements < 3\n",
    "a[a < 3]"
   ]
  },
  {
   "cell_type": "code",
   "execution_count": 87,
   "metadata": {},
   "outputs": [
    {
     "output_type": "execute_result",
     "data": {
      "text/plain": [
       "array([3], dtype=int32)"
      ]
     },
     "metadata": {},
     "execution_count": 87
    }
   ],
   "source": [
    "# Elements > 2\n",
    "a[a > 2]"
   ]
  },
  {
   "cell_type": "code",
   "execution_count": 88,
   "metadata": {},
   "outputs": [
    {
     "output_type": "execute_result",
     "data": {
      "text/plain": [
       "array([2, 3], dtype=int32)"
      ]
     },
     "metadata": {},
     "execution_count": 88
    }
   ],
   "source": [
    "# ELements >= 3\n",
    "a[a >= 2]"
   ]
  },
  {
   "cell_type": "code",
   "execution_count": 102,
   "metadata": {},
   "outputs": [
    {
     "output_type": "stream",
     "name": "stdout",
     "text": [
      "[1 2 3]\n[2 3]\n[1 2 3]\n[2]\n"
     ]
    }
   ],
   "source": [
    "# Satisfy multiple conditions\n",
    "print(a[(a > 1) & (a <= 3)]) # and\n",
    "print(a[(a > 1) | (a <= 3)]) # or\n",
    "print(a[a % 2 ==0]) # mod"
   ]
  },
  {
   "cell_type": "code",
   "execution_count": 97,
   "metadata": {},
   "outputs": [
    {
     "output_type": "stream",
     "name": "stdout",
     "text": [
      "[ True False False]\n"
     ]
    }
   ],
   "source": [
    "# Return booleans \n",
    "print((a<2) & (a > -1))"
   ]
  },
  {
   "cell_type": "code",
   "execution_count": 105,
   "metadata": {},
   "outputs": [
    {
     "output_type": "stream",
     "name": "stdout",
     "text": [
      "[1 2 3]\n(array([1, 2]),)\n(array([0, 1]),)\n"
     ]
    }
   ],
   "source": [
    "# Use nonzero to print indces & elements\n",
    "print(a)\n",
    "print(np.nonzero(a > 1)) # print indices greater than 1\n",
    "print(np.nonzero(a[a > 1])) # print elements greater than 1"
   ]
  },
  {
   "source": [
    "## Sorting, Adding, and Removing"
   ],
   "cell_type": "markdown",
   "metadata": {}
  },
  {
   "cell_type": "code",
   "execution_count": 47,
   "metadata": {},
   "outputs": [],
   "source": [
    "new_arr = np.array([2, 1, 5, 3, 7, 4, 6, 8])\n",
    "arr = np.array([[2,5,6,8,3],[7,3,5,1,4]])"
   ]
  },
  {
   "cell_type": "code",
   "execution_count": 48,
   "metadata": {},
   "outputs": [
    {
     "output_type": "execute_result",
     "data": {
      "text/plain": [
       "array([1, 2, 3, 4, 5, 6, 7, 8])"
      ]
     },
     "metadata": {},
     "execution_count": 48
    }
   ],
   "source": [
    "# Sort\n",
    "np.sort(new_arr)"
   ]
  },
  {
   "cell_type": "code",
   "execution_count": 51,
   "metadata": {},
   "outputs": [
    {
     "output_type": "execute_result",
     "data": {
      "text/plain": [
       "array([[0, 1, 1, 1, 0],\n",
       "       [1, 0, 0, 0, 1]])"
      ]
     },
     "metadata": {},
     "execution_count": 51
    }
   ],
   "source": [
    "# Argsort sorts along a specific axis\n",
    "np.argsort(arr, axis=0)"
   ]
  },
  {
   "cell_type": "code",
   "execution_count": 52,
   "metadata": {},
   "outputs": [
    {
     "output_type": "execute_result",
     "data": {
      "text/plain": [
       "array([ 6,  8, 10, 12])"
      ]
     },
     "metadata": {},
     "execution_count": 52
    }
   ],
   "source": [
    "# Add arrays\n",
    "first = np.array([1,2,3,4])\n",
    "second = np.array([5,6,7,8])\n",
    "\n",
    "first + second"
   ]
  },
  {
   "cell_type": "code",
   "execution_count": 54,
   "metadata": {},
   "outputs": [
    {
     "output_type": "execute_result",
     "data": {
      "text/plain": [
       "array([1, 2, 3, 4, 5, 6, 7, 8])"
      ]
     },
     "metadata": {},
     "execution_count": 54
    }
   ],
   "source": [
    "# Concatenate arrays\n",
    "np.concatenate([first, second])"
   ]
  },
  {
   "cell_type": "code",
   "execution_count": 56,
   "metadata": {},
   "outputs": [
    {
     "output_type": "execute_result",
     "data": {
      "text/plain": [
       "array([1, 2, 3])"
      ]
     },
     "metadata": {},
     "execution_count": 56
    }
   ],
   "source": [
    "# Remove\n",
    "# It's easier to use indexing to select elements you want to keep\n",
    "new_ar = first[0:3]\n",
    "new_ar"
   ]
  },
  {
   "source": [
    "## Reshape Array"
   ],
   "cell_type": "markdown",
   "metadata": {}
  },
  {
   "cell_type": "code",
   "execution_count": 60,
   "metadata": {},
   "outputs": [
    {
     "output_type": "execute_result",
     "data": {
      "text/plain": [
       "array([0, 1, 2, 3, 4, 5])"
      ]
     },
     "metadata": {},
     "execution_count": 60
    }
   ],
   "source": [
    "r = np.arange(6)\n",
    "r"
   ]
  },
  {
   "cell_type": "code",
   "execution_count": 61,
   "metadata": {},
   "outputs": [
    {
     "output_type": "execute_result",
     "data": {
      "text/plain": [
       "array([[0, 1],\n",
       "       [2, 3],\n",
       "       [4, 5]])"
      ]
     },
     "metadata": {},
     "execution_count": 61
    }
   ],
   "source": [
    "# np.reshape\n",
    "m = r.reshape(3,2) # new shape must be compatible with original\n",
    "m"
   ]
  },
  {
   "source": [
    "## Add new Axis to Array"
   ],
   "cell_type": "markdown",
   "metadata": {}
  },
  {
   "cell_type": "code",
   "execution_count": 67,
   "metadata": {},
   "outputs": [
    {
     "output_type": "stream",
     "name": "stdout",
     "text": [
      "(6,)\n[[0 1 2 3 4 5]]\n(1, 6)\n"
     ]
    }
   ],
   "source": [
    "# np.newaxis increases array dimension by 1. 1D > 2D / 2D > 3D\n",
    "print(r.shape)\n",
    "r2 = r[np.newaxis, :] # row vector\n",
    "print(r2)\n",
    "print(r2.shape)"
   ]
  },
  {
   "cell_type": "code",
   "execution_count": 68,
   "metadata": {},
   "outputs": [
    {
     "output_type": "stream",
     "name": "stdout",
     "text": [
      "[[0]\n [1]\n [2]\n [3]\n [4]\n [5]]\n(6, 1)\n"
     ]
    }
   ],
   "source": [
    "r3 = r[:, np.newaxis] # col vector\n",
    "print(r3)\n",
    "print(r3.shape)"
   ]
  },
  {
   "cell_type": "code",
   "execution_count": 70,
   "metadata": {},
   "outputs": [
    {
     "output_type": "execute_result",
     "data": {
      "text/plain": [
       "(6,)"
      ]
     },
     "metadata": {},
     "execution_count": 70
    }
   ],
   "source": [
    "# Add new axis at specified position\n",
    "r4 = np.array([1, 2, 3, 4, 5, 6])\n",
    "r4.shape"
   ]
  },
  {
   "cell_type": "code",
   "execution_count": 71,
   "metadata": {},
   "outputs": [
    {
     "output_type": "execute_result",
     "data": {
      "text/plain": [
       "(6, 1)"
      ]
     },
     "metadata": {},
     "execution_count": 71
    }
   ],
   "source": [
    "# Add axis at index 1\n",
    "r5 = np.expand_dims(r4, axis=1)\n",
    "r5.shape"
   ]
  },
  {
   "cell_type": "code",
   "execution_count": 72,
   "metadata": {},
   "outputs": [
    {
     "output_type": "execute_result",
     "data": {
      "text/plain": [
       "(1, 6)"
      ]
     },
     "metadata": {},
     "execution_count": 72
    }
   ],
   "source": [
    "# Add axis at index 0\n",
    "r6 = np.expand_dims(r4, axis=0)\n",
    "r6.shape"
   ]
  },
  {
   "source": [
    "## Create Array from Existing Data"
   ],
   "cell_type": "markdown",
   "metadata": {}
  },
  {
   "cell_type": "code",
   "execution_count": 107,
   "metadata": {},
   "outputs": [],
   "source": [
    "x = np.array([1,  2,  3,  4,  5,  6,  7,  8,  9, 10])"
   ]
  },
  {
   "cell_type": "code",
   "execution_count": 109,
   "metadata": {},
   "outputs": [
    {
     "output_type": "execute_result",
     "data": {
      "text/plain": [
       "array([1, 2, 3, 4, 5, 6])"
      ]
     },
     "metadata": {},
     "execution_count": 109
    }
   ],
   "source": [
    "# Using slicing\n",
    "n1 = x[:6]\n",
    "n1"
   ]
  },
  {
   "cell_type": "code",
   "execution_count": 112,
   "metadata": {},
   "outputs": [],
   "source": [
    "# Stack arrays\n",
    "q1 = np.array([[1,1], [2,2]])\n",
    "q2 = np.array([[3,3], [4,4]])"
   ]
  },
  {
   "cell_type": "code",
   "execution_count": 114,
   "metadata": {},
   "outputs": [
    {
     "output_type": "execute_result",
     "data": {
      "text/plain": [
       "array([[1, 1],\n",
       "       [2, 2],\n",
       "       [3, 3],\n",
       "       [4, 4]])"
      ]
     },
     "metadata": {},
     "execution_count": 114
    }
   ],
   "source": [
    "# vstack\n",
    "v1 = np.vstack((q1, q2))\n",
    "v1"
   ]
  },
  {
   "cell_type": "code",
   "execution_count": 115,
   "metadata": {},
   "outputs": [
    {
     "output_type": "execute_result",
     "data": {
      "text/plain": [
       "array([[1, 1, 3, 3],\n",
       "       [2, 2, 4, 4]])"
      ]
     },
     "metadata": {},
     "execution_count": 115
    }
   ],
   "source": [
    "# hstack\n",
    "v2 = np.hstack((q1,q2))\n",
    "v2"
   ]
  },
  {
   "cell_type": "code",
   "execution_count": 119,
   "metadata": {},
   "outputs": [
    {
     "output_type": "execute_result",
     "data": {
      "text/plain": [
       "[array([1, 2, 3, 4, 5]), array([ 6,  7,  8,  9, 10])]"
      ]
     },
     "metadata": {},
     "execution_count": 119
    }
   ],
   "source": [
    "# Split array using hsplit\n",
    "np.hsplit(x, 2)"
   ]
  },
  {
   "cell_type": "code",
   "execution_count": 122,
   "metadata": {},
   "outputs": [
    {
     "output_type": "execute_result",
     "data": {
      "text/plain": [
       "[array([[1, 1],\n",
       "        [2, 2]]),\n",
       " array([[3, 3],\n",
       "        [4, 4]])]"
      ]
     },
     "metadata": {},
     "execution_count": 122
    }
   ],
   "source": [
    "np.hsplit(v2, 2)"
   ]
  },
  {
   "cell_type": "code",
   "execution_count": 127,
   "metadata": {},
   "outputs": [
    {
     "output_type": "stream",
     "name": "stdout",
     "text": [
      "<built-in method copy of numpy.ndarray object at 0x7f34fe4f3330>\n"
     ]
    },
    {
     "output_type": "execute_result",
     "data": {
      "text/plain": [
       "array([[1, 1, 3, 3],\n",
       "       [2, 2, 4, 4]])"
      ]
     },
     "metadata": {},
     "execution_count": 127
    }
   ],
   "source": [
    "# Make a copy of array\n",
    "v2_cpy = v2.copy    \n",
    "print(v2_cpy)\n",
    "np.copy(v2) # returns the copied array"
   ]
  },
  {
   "source": [
    "## Basic Operations"
   ],
   "cell_type": "markdown",
   "metadata": {}
  },
  {
   "cell_type": "code",
   "execution_count": 129,
   "metadata": {},
   "outputs": [
    {
     "output_type": "execute_result",
     "data": {
      "text/plain": [
       "array([ 7,  9, 11, 13, 15])"
      ]
     },
     "metadata": {},
     "execution_count": 129
    }
   ],
   "source": [
    "# Add arrays\n",
    "d1, d2 = np.hsplit(x, 2) # create 2 arrays using hsplit\n",
    "d1 + d2"
   ]
  },
  {
   "cell_type": "code",
   "execution_count": 131,
   "metadata": {},
   "outputs": [
    {
     "output_type": "execute_result",
     "data": {
      "text/plain": [
       "array([5, 5, 5, 5, 5])"
      ]
     },
     "metadata": {},
     "execution_count": 131
    }
   ],
   "source": [
    "# Subtract \n",
    "d2 - d1"
   ]
  },
  {
   "cell_type": "code",
   "execution_count": 132,
   "metadata": {},
   "outputs": [
    {
     "output_type": "execute_result",
     "data": {
      "text/plain": [
       "array([ 6, 14, 24, 36, 50])"
      ]
     },
     "metadata": {},
     "execution_count": 132
    }
   ],
   "source": [
    "# Multiply\n",
    "d1 * d2"
   ]
  },
  {
   "cell_type": "code",
   "execution_count": 133,
   "metadata": {},
   "outputs": [
    {
     "output_type": "execute_result",
     "data": {
      "text/plain": [
       "array([6.        , 3.5       , 2.66666667, 2.25      , 2.        ])"
      ]
     },
     "metadata": {},
     "execution_count": 133
    }
   ],
   "source": [
    "# Divide\n",
    "d2 / d1"
   ]
  },
  {
   "cell_type": "code",
   "execution_count": 135,
   "metadata": {},
   "outputs": [
    {
     "output_type": "execute_result",
     "data": {
      "text/plain": [
       "55"
      ]
     },
     "metadata": {},
     "execution_count": 135
    }
   ],
   "source": [
    "# Sum of elements in array\n",
    "x.sum()"
   ]
  },
  {
   "cell_type": "code",
   "execution_count": 139,
   "metadata": {},
   "outputs": [
    {
     "output_type": "stream",
     "name": "stdout",
     "text": [
      "[3 3 7 7]\n[ 8 12]\n"
     ]
    }
   ],
   "source": [
    "# Sum rows\n",
    "print(v2.sum(axis=0))\n",
    "print(v2.sum(axis=1))"
   ]
  },
  {
   "cell_type": "code",
   "execution_count": 143,
   "metadata": {},
   "outputs": [
    {
     "output_type": "stream",
     "name": "stdout",
     "text": [
      "10\n1\n"
     ]
    }
   ],
   "source": [
    "# Aggregation Operations. can aggregate across rows/cols using axis\n",
    "print(x.max())\n",
    "print(x.min()) "
   ]
  },
  {
   "source": [
    "## Broadcasting\n",
    "Broadcasting is a mechanism that allows NumPy to perform operations on arrays of different shapes. "
   ],
   "cell_type": "markdown",
   "metadata": {}
  },
  {
   "cell_type": "code",
   "execution_count": 141,
   "metadata": {},
   "outputs": [
    {
     "output_type": "execute_result",
     "data": {
      "text/plain": [
       "array([2, 4, 6], dtype=int32)"
      ]
     },
     "metadata": {},
     "execution_count": 141
    }
   ],
   "source": [
    "# example\n",
    "a * 2"
   ]
  },
  {
   "source": [
    "## Unique Items and Counts"
   ],
   "cell_type": "markdown",
   "metadata": {}
  },
  {
   "cell_type": "code",
   "execution_count": 159,
   "metadata": {},
   "outputs": [],
   "source": [
    "x = np.array([11, 11, 12, 13, 14, 15, 16, 17, 12, 13, 11, 14, 18, 19, 20])\n",
    "x_2d = np.array([[1, 2, 3, 4], [5, 6, 7, 8], [9, 10, 11, 12], [1, 2, 3, 4]])"
   ]
  },
  {
   "cell_type": "code",
   "execution_count": 154,
   "metadata": {},
   "outputs": [
    {
     "output_type": "execute_result",
     "data": {
      "text/plain": [
       "array([11, 12, 13, 14, 15, 16, 17, 18, 19, 20])"
      ]
     },
     "metadata": {},
     "execution_count": 154
    }
   ],
   "source": [
    "# Unique values\n",
    "np.unique(x)"
   ]
  },
  {
   "cell_type": "code",
   "execution_count": 155,
   "metadata": {},
   "outputs": [
    {
     "output_type": "execute_result",
     "data": {
      "text/plain": [
       "(array([11, 12, 13, 14, 15, 16, 17, 18, 19, 20]),\n",
       " array([ 0,  2,  3,  4,  5,  6,  7, 12, 13, 14]))"
      ]
     },
     "metadata": {},
     "execution_count": 155
    }
   ],
   "source": [
    "# Get indices of unique values\n",
    "np.unique(x, return_index=True)"
   ]
  },
  {
   "cell_type": "code",
   "execution_count": 156,
   "metadata": {},
   "outputs": [
    {
     "output_type": "execute_result",
     "data": {
      "text/plain": [
       "(array([11, 12, 13, 14, 15, 16, 17, 18, 19, 20]),\n",
       " array([3, 2, 2, 2, 1, 1, 1, 1, 1, 1]))"
      ]
     },
     "metadata": {},
     "execution_count": 156
    }
   ],
   "source": [
    "# Get counts of unique values\n",
    "np.unique(x, return_counts=True)"
   ]
  },
  {
   "cell_type": "code",
   "execution_count": 157,
   "metadata": {},
   "outputs": [
    {
     "output_type": "execute_result",
     "data": {
      "text/plain": [
       "(array([11, 12, 13, 14, 15, 16, 17, 18, 19, 20]),\n",
       " array([0, 0, 1, 2, 3, 4, 5, 6, 1, 2, 0, 3, 7, 8, 9]))"
      ]
     },
     "metadata": {},
     "execution_count": 157
    }
   ],
   "source": [
    "# Get inverse of unique values\n",
    "np.unique(x, return_inverse=True)"
   ]
  },
  {
   "cell_type": "code",
   "execution_count": 160,
   "metadata": {},
   "outputs": [
    {
     "output_type": "execute_result",
     "data": {
      "text/plain": [
       "array([ 1,  2,  3,  4,  5,  6,  7,  8,  9, 10, 11, 12])"
      ]
     },
     "metadata": {},
     "execution_count": 160
    }
   ],
   "source": [
    "# For matrix\n",
    "np.unique(x_2d)"
   ]
  },
  {
   "cell_type": "code",
   "execution_count": 161,
   "metadata": {},
   "outputs": [
    {
     "output_type": "execute_result",
     "data": {
      "text/plain": [
       "array([[ 1,  2,  3,  4],\n",
       "       [ 5,  6,  7,  8],\n",
       "       [ 9, 10, 11, 12],\n",
       "       [ 1,  2,  3,  4]])"
      ]
     },
     "metadata": {},
     "execution_count": 161
    }
   ],
   "source": [
    "# Get row or col based unique values\n",
    "np.unique(x_2d, axis=1)"
   ]
  },
  {
   "cell_type": "code",
   "execution_count": 162,
   "metadata": {},
   "outputs": [
    {
     "output_type": "execute_result",
     "data": {
      "text/plain": [
       "array([[ 1,  2,  3,  4],\n",
       "       [ 5,  6,  7,  8],\n",
       "       [ 9, 10, 11, 12]])"
      ]
     },
     "metadata": {},
     "execution_count": 162
    }
   ],
   "source": [
    "np.unique(x_2d, axis=0)"
   ]
  },
  {
   "cell_type": "code",
   "execution_count": 164,
   "metadata": {},
   "outputs": [
    {
     "output_type": "stream",
     "name": "stdout",
     "text": [
      "Row ==>  [[ 1  2  3  4]\n [ 5  6  7  8]\n [ 9 10 11 12]]\nIndices ==>  [0 1 2]\nCounts ==>  [2 1 1]\n"
     ]
    }
   ],
   "source": [
    "# Get unique rows, indices, and counts\n",
    "rows, indices, counts = np.unique(x_2d, axis=0, return_counts=True, return_index=True)\n",
    "print('Row ==> ', rows)\n",
    "print('Indices ==> ', indices)\n",
    "print('Counts ==> ',counts)"
   ]
  },
  {
   "source": [
    "## Transpose & Reshape"
   ],
   "cell_type": "markdown",
   "metadata": {}
  },
  {
   "cell_type": "code",
   "execution_count": 170,
   "metadata": {},
   "outputs": [
    {
     "output_type": "execute_result",
     "data": {
      "text/plain": [
       "array([[ 1,  2,  3,  4,  5,  6,  7,  8],\n",
       "       [ 9, 10, 11, 12,  1,  2,  3,  4]])"
      ]
     },
     "metadata": {},
     "execution_count": 170
    }
   ],
   "source": [
    "# Reshape\n",
    "x_sh = x_2d.reshape(2,8)\n",
    "x_sh"
   ]
  },
  {
   "cell_type": "code",
   "execution_count": 176,
   "metadata": {},
   "outputs": [
    {
     "output_type": "stream",
     "name": "stdout",
     "text": [
      "[[ 1  9]\n [ 2 10]\n [ 3 11]\n [ 4 12]\n [ 5  1]\n [ 6  2]\n [ 7  3]\n [ 8  4]]\n=========\n[[ 1  9]\n [ 2 10]\n [ 3 11]\n [ 4 12]\n [ 5  1]\n [ 6  2]\n [ 7  3]\n [ 8  4]]\n"
     ]
    }
   ],
   "source": [
    "# Transpose using T or transpose\n",
    "x_T = x_sh.T\n",
    "print(x_T)\n",
    "print('=========')\n",
    "x_t = x_sh.transpose()\n",
    "print(x_t)"
   ]
  },
  {
   "source": [
    "## Reverse Array"
   ],
   "cell_type": "markdown",
   "metadata": {}
  },
  {
   "cell_type": "code",
   "execution_count": 177,
   "metadata": {},
   "outputs": [
    {
     "output_type": "execute_result",
     "data": {
      "text/plain": [
       "array([20, 19, 18, 14, 11, 13, 12, 17, 16, 15, 14, 13, 12, 11, 11])"
      ]
     },
     "metadata": {},
     "execution_count": 177
    }
   ],
   "source": [
    "# Reverse 1D array\n",
    "np.flip(x)"
   ]
  },
  {
   "cell_type": "code",
   "execution_count": 178,
   "metadata": {},
   "outputs": [
    {
     "output_type": "execute_result",
     "data": {
      "text/plain": [
       "array([[ 4,  3,  2,  1],\n",
       "       [12, 11, 10,  9],\n",
       "       [ 8,  7,  6,  5],\n",
       "       [ 4,  3,  2,  1]])"
      ]
     },
     "metadata": {},
     "execution_count": 178
    }
   ],
   "source": [
    "# Reverse 2D\n",
    "np.flip(x_2d)"
   ]
  },
  {
   "cell_type": "code",
   "execution_count": 179,
   "metadata": {},
   "outputs": [
    {
     "output_type": "execute_result",
     "data": {
      "text/plain": [
       "array([[ 4,  3,  2,  1],\n",
       "       [ 8,  7,  6,  5],\n",
       "       [12, 11, 10,  9],\n",
       "       [ 4,  3,  2,  1]])"
      ]
     },
     "metadata": {},
     "execution_count": 179
    }
   ],
   "source": [
    "# Reverse by axis\n",
    "np.flip(x_2d, axis=1)"
   ]
  },
  {
   "cell_type": "code",
   "execution_count": 180,
   "metadata": {},
   "outputs": [
    {
     "output_type": "execute_result",
     "data": {
      "text/plain": [
       "array([[ 1,  2,  3,  4],\n",
       "       [ 9, 10, 11, 12],\n",
       "       [ 5,  6,  7,  8],\n",
       "       [ 1,  2,  3,  4]])"
      ]
     },
     "metadata": {},
     "execution_count": 180
    }
   ],
   "source": [
    "np.flip(x_2d, axis=0)"
   ]
  },
  {
   "cell_type": "code",
   "execution_count": 183,
   "metadata": {},
   "outputs": [
    {
     "output_type": "execute_result",
     "data": {
      "text/plain": [
       "array([8, 7, 6, 5])"
      ]
     },
     "metadata": {},
     "execution_count": 183
    }
   ],
   "source": [
    "# Reverse only one row\n",
    "np.flip(x_2d[1])"
   ]
  },
  {
   "cell_type": "code",
   "execution_count": 184,
   "metadata": {},
   "outputs": [
    {
     "output_type": "execute_result",
     "data": {
      "text/plain": [
       "array([ 2, 10,  6,  2])"
      ]
     },
     "metadata": {},
     "execution_count": 184
    }
   ],
   "source": [
    "# Reverse on a col\n",
    "np.flip(x_2d[:,1])"
   ]
  },
  {
   "source": [
    "## Flatten Array"
   ],
   "cell_type": "markdown",
   "metadata": {}
  },
  {
   "cell_type": "code",
   "execution_count": 186,
   "metadata": {},
   "outputs": [
    {
     "output_type": "execute_result",
     "data": {
      "text/plain": [
       "array([ 1,  2,  3,  4,  5,  6,  7,  8,  9, 10, 11, 12,  1,  2,  3,  4])"
      ]
     },
     "metadata": {},
     "execution_count": 186
    }
   ],
   "source": [
    "# Flatten - using ravel() makes changes in place\n",
    "x_2d.flatten()"
   ]
  },
  {
   "source": [
    "## Save and Load Numpy Objects\n",
    "\n",
    "If you want to store a single ndarray object, store it as a .npy file using np.save. \n",
    "If you want to store more than one ndarray object in a single file, save it as a .npz file using np.savez."
   ],
   "cell_type": "markdown",
   "metadata": {}
  },
  {
   "cell_type": "code",
   "execution_count": null,
   "metadata": {},
   "outputs": [],
   "source": [
    "# save()\n",
    "np.save('tutorial.npy', x)"
   ]
  },
  {
   "cell_type": "code",
   "execution_count": null,
   "metadata": {},
   "outputs": [],
   "source": [
    "# savez\n",
    "np.save('tutorial.npz', x_2d)"
   ]
  },
  {
   "cell_type": "code",
   "execution_count": null,
   "metadata": {},
   "outputs": [],
   "source": [
    "# load\n",
    "z = np.load('tutorial.npy', x)\n",
    "y = np.load('tutorial.npz', x_2d)"
   ]
  },
  {
   "cell_type": "code",
   "execution_count": null,
   "metadata": {},
   "outputs": [],
   "source": [
    "# Save as .cvs / txt with np.savetxt\n",
    "# With savetxt, you can specify headers, footers, comments, and more.\n",
    "z1 = np.savetxt('tutorial.txt', x)\n",
    "z2 = np.savetxt('tutorial.csv', x)"
   ]
  },
  {
   "cell_type": "code",
   "execution_count": null,
   "metadata": {},
   "outputs": [],
   "source": [
    "# Load\n",
    "z3 = np.loadtxt('tutorial.txt', x)\n",
    "y2 = np.loadtxt('tutorial.csv', x_2d)"
   ]
  },
  {
   "source": [
    "## Importing and Exporting CSV"
   ],
   "cell_type": "markdown",
   "metadata": {}
  },
  {
   "cell_type": "code",
   "execution_count": null,
   "metadata": {},
   "outputs": [],
   "source": [
    "# Read csv\n",
    "ar = pd.read_csv('data.csv', header=0).values\n",
    "\n",
    "# You can specify cols\n",
    "ar = pd.read_csv('data.csv', usecols=['date_created', 'status']).values"
   ]
  }
 ]
}